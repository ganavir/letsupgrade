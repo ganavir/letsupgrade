{
 "cells": [
  {
   "cell_type": "markdown",
   "metadata": {},
   "source": [
    "# Prime numbers\n"
   ]
  },
  {
   "cell_type": "code",
   "execution_count": 23,
   "metadata": {},
   "outputs": [
    {
     "name": "stdout",
     "output_type": "stream",
     "text": [
      "1 is neither prime nor composite\n",
      "2\n",
      "3\n",
      "5\n",
      "7\n",
      "11\n",
      "13\n",
      "17\n",
      "19\n",
      "23\n",
      "29\n",
      "31\n",
      "37\n",
      "41\n",
      "43\n",
      "47\n",
      "53\n",
      "59\n",
      "61\n",
      "67\n",
      "71\n",
      "73\n",
      "79\n",
      "83\n",
      "89\n",
      "97\n"
     ]
    }
   ],
   "source": [
    "for x in range(1,100):\n",
    "    count =0\n",
    "    if x==1:\n",
    "        print(x,\"is neither prime nor composite\")\n",
    "    for i in range(2, (x//2+1)):\n",
    "        if(x % i == 0):\n",
    "            count = count+1;\n",
    "            break      \n",
    "    if(count==0 and x!=1):\n",
    "        print(\"%d\" %x)\n",
    "    "
   ]
  },
  {
   "cell_type": "markdown",
   "metadata": {},
   "source": [
    "# Pilot "
   ]
  },
  {
   "cell_type": "code",
   "execution_count": 19,
   "metadata": {},
   "outputs": [
    {
     "name": "stdout",
     "output_type": "stream",
     "text": [
      "enter the number1000\n",
      "Safe to land\n"
     ]
    }
   ],
   "source": [
    "num = input(\"enter the number\")\n",
    "num = int (num)\n",
    "\n",
    "if num<=1000:\n",
    "    print(\"Safe to land\")\n",
    "elif (num>=1000 and num<=5000):\n",
    "    print(\"Bring down to 1000\")\n",
    "else:\n",
    "    print(\"Turn around\")"
   ]
  },
  {
   "cell_type": "code",
   "execution_count": 20,
   "metadata": {},
   "outputs": [
    {
     "name": "stdout",
     "output_type": "stream",
     "text": [
      "enter the number4500\n",
      "Bring down to 1000\n"
     ]
    }
   ],
   "source": [
    "num = input(\"enter the number\")\n",
    "num = int (num)\n",
    "\n",
    "if num<=1000:\n",
    "    print(\"Safe to land\")\n",
    "elif num>1000 and num<=5000:\n",
    "    print(\"Bring down to 1000\")\n",
    "else:\n",
    "    print(\"Turn around\")"
   ]
  },
  {
   "cell_type": "code",
   "execution_count": 21,
   "metadata": {},
   "outputs": [
    {
     "name": "stdout",
     "output_type": "stream",
     "text": [
      "enter the number6500\n",
      "Turn Around\n"
     ]
    }
   ],
   "source": [
    "num = input(\"enter the number\")\n",
    "num = int (num)\n",
    "\n",
    "if num<=1000:\n",
    "    print(\"Safe to land\")\n",
    "elif (num>=1000 and num<=5000): \n",
    "    print(\"Bring down to 1000\")\n",
    "else:\n",
    "    print(\"Turn Around\")\n",
    "    "
   ]
  },
  {
   "cell_type": "code",
   "execution_count": null,
   "metadata": {},
   "outputs": [],
   "source": []
  }
 ],
 "metadata": {
  "kernelspec": {
   "display_name": "Python 3",
   "language": "python",
   "name": "python3"
  },
  "language_info": {
   "codemirror_mode": {
    "name": "ipython",
    "version": 3
   },
   "file_extension": ".py",
   "mimetype": "text/x-python",
   "name": "python",
   "nbconvert_exporter": "python",
   "pygments_lexer": "ipython3",
   "version": "3.8.3"
  }
 },
 "nbformat": 4,
 "nbformat_minor": 4
}
