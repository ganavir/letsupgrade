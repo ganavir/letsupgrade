{
 "cells": [
  {
   "cell_type": "raw",
   "metadata": {},
   "source": [
    "Q1"
   ]
  },
  {
   "cell_type": "code",
   "execution_count": 3,
   "metadata": {},
   "outputs": [
    {
     "name": "stdout",
     "output_type": "stream",
     "text": [
      "Given the following jumbled word, OBANWRI guess the correct English word.\n",
      "A. RANIBOW\n",
      "B. RAINBOW\n",
      "C. BOWRANI\n",
      "D. ROBWANI\n",
      "Please Enter your option\n",
      "D\n",
      "Sorry your are wrong\n"
     ]
    }
   ],
   "source": [
    "print(\"Given the following jumbled word, OBANWRI guess the correct English word.\"\n",
    "\"\\nA. RANIBOW\"\n",
    "\"\\nB. RAINBOW\"\n",
    "\"\\nC. BOWRANI\"\n",
    "\"\\nD. ROBWANI\")\n",
    "\n",
    "A = \"RANIBOW\"\n",
    "B = \"RAINBOW\"\n",
    "C = \"BOWRANI\"\n",
    "D = \"ROBWANI\"\n",
    "\n",
    "print(\"Please Enter your option\")\n",
    "ans = input()\n",
    "\n",
    "if ans == \"A\":\n",
    "    print(\"Sorry your are wrong\")\n",
    "elif ans == \"B\":\n",
    "    print(\"Congratulations, Your option is Right\")\n",
    "elif ans == \"C\":\n",
    "    print(\"Sorry your are wrong\")\n",
    "elif ans == \"D\":\n",
    "    print(\"Sorry your are wrong\")\n",
    "else:\n",
    "    print(\"Please Choose above option\")"
   ]
  },
  {
   "cell_type": "raw",
   "metadata": {},
   "source": [
    "Q2"
   ]
  },
  {
   "cell_type": "code",
   "execution_count": 4,
   "metadata": {},
   "outputs": [
    {
     "data": {
      "text/plain": [
       "'LETSUPGRADE'"
      ]
     },
     "execution_count": 4,
     "metadata": {},
     "output_type": "execute_result"
    }
   ],
   "source": [
    "s = \"letsupgrade\"\n",
    "s.upper()"
   ]
  },
  {
   "cell_type": "raw",
   "metadata": {},
   "source": [
    "Q3"
   ]
  },
  {
   "cell_type": "code",
   "execution_count": 5,
   "metadata": {},
   "outputs": [
    {
     "name": "stdout",
     "output_type": "stream",
     "text": [
      "80\n",
      "30\n",
      "Profit\n"
     ]
    }
   ],
   "source": [
    "a = int(input())\n",
    "b = int(input())\n",
    "\n",
    "if a>b:\n",
    "    print(\"Profit\")\n",
    "elif a<b:\n",
    "    print(\"Loss\")\n",
    "else:\n",
    "    print(\"Neither\")"
   ]
  },
  {
   "cell_type": "raw",
   "metadata": {},
   "source": [
    "Q4"
   ]
  },
  {
   "cell_type": "code",
   "execution_count": 7,
   "metadata": {},
   "outputs": [
    {
     "name": "stdout",
     "output_type": "stream",
     "text": [
      "45\n",
      "3600\n"
     ]
    }
   ],
   "source": [
    "a = int(input())\n",
    "\n",
    "b = a * 80\n",
    "\n",
    "print(b)"
   ]
  },
  {
   "cell_type": "code",
   "execution_count": null,
   "metadata": {},
   "outputs": [],
   "source": []
  }
 ],
 "metadata": {
  "kernelspec": {
   "display_name": "Python 3",
   "language": "python",
   "name": "python3"
  },
  "language_info": {
   "codemirror_mode": {
    "name": "ipython",
    "version": 3
   },
   "file_extension": ".py",
   "mimetype": "text/x-python",
   "name": "python",
   "nbconvert_exporter": "python",
   "pygments_lexer": "ipython3",
   "version": "3.8.3"
  }
 },
 "nbformat": 4,
 "nbformat_minor": 4
}
