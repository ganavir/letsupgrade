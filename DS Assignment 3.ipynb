{
 "cells": [
  {
   "cell_type": "raw",
   "metadata": {},
   "source": [
    "Q1 "
   ]
  },
  {
   "cell_type": "code",
   "execution_count": 1,
   "metadata": {},
   "outputs": [
    {
     "name": "stdout",
     "output_type": "stream",
     "text": [
      "[ 2  5  8 11 14 17 20 23 26 29 32 35 38 41 44 47 50]\n"
     ]
    }
   ],
   "source": [
    "import numpy as np\n",
    "ar = np.arange(2,51,3)\n",
    "print(ar)"
   ]
  },
  {
   "cell_type": "raw",
   "metadata": {},
   "source": [
    "Q2"
   ]
  },
  {
   "cell_type": "code",
   "execution_count": 2,
   "metadata": {},
   "outputs": [
    {
     "name": "stdout",
     "output_type": "stream",
     "text": [
      "2\n",
      "3\n",
      "6\n",
      "8\n",
      "9\n",
      "0\n",
      "1\n",
      "3\n",
      "4\n",
      "5\n",
      "[2 3 6 8 9 0 1 3 4 5]\n",
      "[0 1 2 3 3 4 5 6 8 9]\n"
     ]
    }
   ],
   "source": [
    "import numpy as np\n",
    "a1=[] \n",
    "a2=[]\n",
    "for i in range(0, 5): \n",
    "    ele = int(input())\n",
    "    a1.append(ele)\n",
    "for i in range(0, 5): \n",
    "    ele = int(input())\n",
    "    a2.append(ele) \n",
    "a1 = np.array(a1)\n",
    "a2 = np.array(a2)\n",
    "print(np.concatenate((a1,a2)))\n",
    "print(np.sort(np.concatenate((a1,a2))))\n"
   ]
  },
  {
   "cell_type": "raw",
   "metadata": {},
   "source": [
    "Q3"
   ]
  },
  {
   "cell_type": "code",
   "execution_count": 3,
   "metadata": {},
   "outputs": [
    {
     "name": "stdout",
     "output_type": "stream",
     "text": [
      "2\n",
      "9\n"
     ]
    }
   ],
   "source": [
    "import numpy as np\n",
    "arr = np.array([[1,2,3],[1,3,5],[1,3,4]])\n",
    "print(arr.ndim)\n",
    "print(arr.size)"
   ]
  },
  {
   "cell_type": "raw",
   "metadata": {},
   "source": [
    "Q4"
   ]
  },
  {
   "cell_type": "code",
   "execution_count": 4,
   "metadata": {},
   "outputs": [
    {
     "name": "stdout",
     "output_type": "stream",
     "text": [
      "1\n",
      "2\n"
     ]
    }
   ],
   "source": [
    "import numpy as np\n",
    "arr=np.random.rand(5,)\n",
    "print(arr.ndim)\n",
    "nw_arr = arr[np.newaxis, :]\n",
    "print(nw_arr.ndim)"
   ]
  },
  {
   "cell_type": "raw",
   "metadata": {},
   "source": [
    "Q4"
   ]
  },
  {
   "cell_type": "code",
   "execution_count": 5,
   "metadata": {},
   "outputs": [
    {
     "name": "stdout",
     "output_type": "stream",
     "text": [
      "[[0.06997842 0.63203812 0.33867787]\n",
      " [0.79995197 0.16194012 0.10411539]\n",
      " [0.97781638 0.87305589 0.26807563]\n",
      " [0.56188933 0.14713829 0.60182735]\n",
      " [0.17777827 0.22712686 0.3185663 ]\n",
      " [0.98291053 0.54916617 0.0561114 ]]\n",
      "\n",
      "[[0.06997842 0.63203812 0.33867787 0.56188933 0.14713829 0.60182735]\n",
      " [0.79995197 0.16194012 0.10411539 0.17777827 0.22712686 0.3185663 ]\n",
      " [0.97781638 0.87305589 0.26807563 0.98291053 0.54916617 0.0561114 ]]\n"
     ]
    }
   ],
   "source": [
    "import numpy as np\n",
    "arr1=np.random.rand(3,3)\n",
    "arr2=np.random.rand(3,3)\n",
    "print(np.vstack((arr1,arr2)))\n",
    "print() \n",
    "print(np.hstack((arr1,arr2)))"
   ]
  },
  {
   "cell_type": "raw",
   "metadata": {},
   "source": [
    "Q5"
   ]
  },
  {
   "cell_type": "code",
   "execution_count": 7,
   "metadata": {},
   "outputs": [
    {
     "name": "stdout",
     "output_type": "stream",
     "text": [
      "(array([1, 2, 3, 4, 5, 6, 7, 8, 9]), array([2, 3, 2, 1, 2, 2, 2, 1, 4], dtype=int64))\n"
     ]
    }
   ],
   "source": [
    "import numpy as np\n",
    "arr = np.array([1,9,3,1,5,2,5,9,4,3,9,7,6,2,9,2,6,7,8])\n",
    "print(np.unique(arr,return_counts=True))"
   ]
  },
  {
   "cell_type": "code",
   "execution_count": null,
   "metadata": {},
   "outputs": [],
   "source": []
  }
 ],
 "metadata": {
  "kernelspec": {
   "display_name": "Python 3",
   "language": "python",
   "name": "python3"
  },
  "language_info": {
   "codemirror_mode": {
    "name": "ipython",
    "version": 3
   },
   "file_extension": ".py",
   "mimetype": "text/x-python",
   "name": "python",
   "nbconvert_exporter": "python",
   "pygments_lexer": "ipython3",
   "version": "3.8.3"
  }
 },
 "nbformat": 4,
 "nbformat_minor": 4
}
