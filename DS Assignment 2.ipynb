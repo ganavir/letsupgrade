{
 "cells": [
  {
   "cell_type": "raw",
   "metadata": {},
   "source": [
    "Q1"
   ]
  },
  {
   "cell_type": "code",
   "execution_count": 3,
   "metadata": {},
   "outputs": [
    {
     "name": "stdout",
     "output_type": "stream",
     "text": [
      "22\n",
      "34\n",
      "98\n",
      "77\n",
      "947\n",
      "467\n",
      "38939\n",
      "666\n",
      "578\n",
      "456\n",
      "[22, 34, 98, 666, 578, 456]\n"
     ]
    }
   ],
   "source": [
    "li = []\n",
    "for i in range(10):\n",
    "    x = int(input())\n",
    "    if x%2==0:\n",
    "        li.append(x)\n",
    "print(li)"
   ]
  },
  {
   "cell_type": "raw",
   "metadata": {},
   "source": [
    "Q2"
   ]
  },
  {
   "cell_type": "code",
   "execution_count": 4,
   "metadata": {},
   "outputs": [
    {
     "name": "stdout",
     "output_type": "stream",
     "text": [
      "[2, 8, 12, 16, 6, 10, 18, 20, 40, 52, 60, 80]\n"
     ]
    }
   ],
   "source": [
    "numbers = [1,4,6,8,3,5,9,10,20,26,30,40]\n",
    "\n",
    "double = [n*2 for n in numbers]\n",
    "print(double)"
   ]
  },
  {
   "cell_type": "raw",
   "metadata": {},
   "source": [
    "Q3"
   ]
  },
  {
   "cell_type": "code",
   "execution_count": 5,
   "metadata": {},
   "outputs": [
    {
     "name": "stdout",
     "output_type": "stream",
     "text": [
      "8\n",
      "{1: 1, 2: 4, 3: 9, 4: 16, 5: 25, 6: 36, 7: 49, 8: 64}\n"
     ]
    }
   ],
   "source": [
    "dict = {}\n",
    "n = int(input())\n",
    "for i in range(1,n+1):\n",
    "  dict[i] = i*i\n",
    "print(dict)"
   ]
  },
  {
   "cell_type": "raw",
   "metadata": {},
   "source": [
    "Q4"
   ]
  },
  {
   "cell_type": "code",
   "execution_count": 2,
   "metadata": {},
   "outputs": [
    {
     "name": "stdout",
     "output_type": "stream",
     "text": [
      "4\n",
      "UP 20\n",
      "DOWN 30\n",
      "LEFT 10\n",
      "RIGHT 10\n",
      "10\n"
     ]
    }
   ],
   "source": [
    "x=0\n",
    "y=0\n",
    "n = int(input())\n",
    "\n",
    "for i in range(n):\n",
    "    direction = input().split(' ')  \n",
    "    \n",
    "    if direction[0].upper() == \"UP\":\n",
    "        y += int(direction[1])\n",
    "    elif direction[0].upper() == \"RIGHT\":\n",
    "        x += int(direction[1])\n",
    "    elif direction[0].upper() == \"DOWN\":\n",
    "        y -= int(direction[1])\n",
    "    elif direction[0].upper() == \"LEFT\":\n",
    "        x -= int(direction[1])\n",
    "    else:\n",
    "        print(\"Invalid Input\")    \n",
    "pos = float((x**2+y**2)**0.5)\n",
    "print(round(pos))"
   ]
  },
  {
   "cell_type": "code",
   "execution_count": null,
   "metadata": {},
   "outputs": [],
   "source": [
    "\n",
    "\n",
    "\n",
    "\n",
    "\n",
    "\n",
    "\n",
    "\n",
    "\n",
    "\n",
    "\n"
   ]
  }
 ],
 "metadata": {
  "kernelspec": {
   "display_name": "Python 3",
   "language": "python",
   "name": "python3"
  },
  "language_info": {
   "codemirror_mode": {
    "name": "ipython",
    "version": 3
   },
   "file_extension": ".py",
   "mimetype": "text/x-python",
   "name": "python",
   "nbconvert_exporter": "python",
   "pygments_lexer": "ipython3",
   "version": "3.8.3"
  }
 },
 "nbformat": 4,
 "nbformat_minor": 4
}
